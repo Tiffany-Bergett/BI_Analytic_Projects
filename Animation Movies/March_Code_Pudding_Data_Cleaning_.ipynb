{
 "cells": [
  {
   "cell_type": "code",
   "execution_count": 1,
   "id": "67133f21",
   "metadata": {},
   "outputs": [],
   "source": [
    "%matplotlib inline\n",
    "import pandas as pd\n",
    "import numpy as np\n",
    "from scipy import stats as st\n",
    "import math as math\n",
    "from scipy import stats as st\n",
    "import plotly.express as px\n",
    "\n",
    "from matplotlib import pyplot as plt\n",
    "plt.style.use('seaborn-pastel')\n",
    "\n",
    "import seaborn as sns\n",
    "sns.set_palette('pastel') \n",
    "\n",
    "\n",
    "import warnings\n",
    "warnings.filterwarnings(\"ignore\")\n",
    "\n",
    "pd.set_option('display.max_columns', None)"
   ]
  },
  {
   "cell_type": "code",
   "execution_count": 2,
   "id": "cf402e70",
   "metadata": {},
   "outputs": [],
   "source": [
    "#reading in df\n",
    "df = pd.read_csv('Animation_Movies.csv')"
   ]
  },
  {
   "cell_type": "code",
   "execution_count": 3,
   "id": "c9e3164f",
   "metadata": {
    "scrolled": true
   },
   "outputs": [
    {
     "data": {
      "text/html": [
       "<div>\n",
       "<style scoped>\n",
       "    .dataframe tbody tr th:only-of-type {\n",
       "        vertical-align: middle;\n",
       "    }\n",
       "\n",
       "    .dataframe tbody tr th {\n",
       "        vertical-align: top;\n",
       "    }\n",
       "\n",
       "    .dataframe thead th {\n",
       "        text-align: right;\n",
       "    }\n",
       "</style>\n",
       "<table border=\"1\" class=\"dataframe\">\n",
       "  <thead>\n",
       "    <tr style=\"text-align: right;\">\n",
       "      <th></th>\n",
       "      <th>id</th>\n",
       "      <th>title</th>\n",
       "      <th>vote_average</th>\n",
       "      <th>vote_count</th>\n",
       "      <th>status</th>\n",
       "      <th>release_date</th>\n",
       "      <th>revenue</th>\n",
       "      <th>runtime</th>\n",
       "      <th>adult</th>\n",
       "      <th>backdrop_path</th>\n",
       "      <th>budget</th>\n",
       "      <th>homepage</th>\n",
       "      <th>imdb_id</th>\n",
       "      <th>original_language</th>\n",
       "      <th>original_title</th>\n",
       "      <th>overview</th>\n",
       "      <th>popularity</th>\n",
       "      <th>poster_path</th>\n",
       "      <th>tagline</th>\n",
       "      <th>genres</th>\n",
       "      <th>production_companies</th>\n",
       "      <th>production_countries</th>\n",
       "      <th>spoken_languages</th>\n",
       "    </tr>\n",
       "  </thead>\n",
       "  <tbody>\n",
       "    <tr>\n",
       "      <th>0</th>\n",
       "      <td>150540</td>\n",
       "      <td>Inside Out</td>\n",
       "      <td>7.922</td>\n",
       "      <td>19463</td>\n",
       "      <td>Released</td>\n",
       "      <td>2015-06-09</td>\n",
       "      <td>857611174</td>\n",
       "      <td>95</td>\n",
       "      <td>False</td>\n",
       "      <td>/j29ekbcLpBvxnGk6LjdTc2EI5SA.jpg</td>\n",
       "      <td>175000000</td>\n",
       "      <td>http://movies.disney.com/inside-out</td>\n",
       "      <td>tt2096673</td>\n",
       "      <td>en</td>\n",
       "      <td>Inside Out</td>\n",
       "      <td>Growing up can be a bumpy road, and it's no ex...</td>\n",
       "      <td>107.292</td>\n",
       "      <td>/2H1TmgdfNtsKlU9jKdeNyYL5y8T.jpg</td>\n",
       "      <td>Meet the little voices inside your head.</td>\n",
       "      <td>Animation, Family, Adventure, Drama, Comedy</td>\n",
       "      <td>Pixar, Walt Disney Pictures</td>\n",
       "      <td>United States of America</td>\n",
       "      <td>English</td>\n",
       "    </tr>\n",
       "    <tr>\n",
       "      <th>1</th>\n",
       "      <td>14160</td>\n",
       "      <td>Up</td>\n",
       "      <td>7.949</td>\n",
       "      <td>18857</td>\n",
       "      <td>Released</td>\n",
       "      <td>2009-05-28</td>\n",
       "      <td>735099082</td>\n",
       "      <td>96</td>\n",
       "      <td>False</td>\n",
       "      <td>/hGGC9gKo7CFE3fW07RA587e5kol.jpg</td>\n",
       "      <td>175000000</td>\n",
       "      <td>http://disney.go.com/disneypictures/up/</td>\n",
       "      <td>tt1049413</td>\n",
       "      <td>en</td>\n",
       "      <td>Up</td>\n",
       "      <td>Carl Fredricksen spent his entire life dreamin...</td>\n",
       "      <td>90.968</td>\n",
       "      <td>/vpbaStTMt8qqXaEgnOR2EE4DNJk.jpg</td>\n",
       "      <td>The greatest adventure is just getting back home.</td>\n",
       "      <td>Animation, Comedy, Family, Adventure</td>\n",
       "      <td>Pixar</td>\n",
       "      <td>United States of America</td>\n",
       "      <td>English</td>\n",
       "    </tr>\n",
       "    <tr>\n",
       "      <th>2</th>\n",
       "      <td>12</td>\n",
       "      <td>Finding Nemo</td>\n",
       "      <td>7.824</td>\n",
       "      <td>18061</td>\n",
       "      <td>Released</td>\n",
       "      <td>2003-05-30</td>\n",
       "      <td>940335536</td>\n",
       "      <td>100</td>\n",
       "      <td>False</td>\n",
       "      <td>/h3uqFk7sZRJvLZDdLiFB9qwbL07.jpg</td>\n",
       "      <td>94000000</td>\n",
       "      <td>http://movies.disney.com/finding-nemo</td>\n",
       "      <td>tt0266543</td>\n",
       "      <td>en</td>\n",
       "      <td>Finding Nemo</td>\n",
       "      <td>Nemo, an adventurous young clownfish, is unexp...</td>\n",
       "      <td>55.456</td>\n",
       "      <td>/ggQ6o8X5984OCh3kZi2UIJQJY5y.jpg</td>\n",
       "      <td>There are 3.7 trillion fish in the ocean. They...</td>\n",
       "      <td>Animation, Family</td>\n",
       "      <td>Pixar</td>\n",
       "      <td>United States of America</td>\n",
       "      <td>English</td>\n",
       "    </tr>\n",
       "    <tr>\n",
       "      <th>3</th>\n",
       "      <td>354912</td>\n",
       "      <td>Coco</td>\n",
       "      <td>8.222</td>\n",
       "      <td>17742</td>\n",
       "      <td>Released</td>\n",
       "      <td>2017-10-27</td>\n",
       "      <td>800526015</td>\n",
       "      <td>105</td>\n",
       "      <td>False</td>\n",
       "      <td>/askg3SMvhqEl4OL52YuvdtY40Yb.jpg</td>\n",
       "      <td>175000000</td>\n",
       "      <td>https://www.pixar.com/feature-films/coco</td>\n",
       "      <td>tt2380307</td>\n",
       "      <td>en</td>\n",
       "      <td>Coco</td>\n",
       "      <td>Despite his family’s baffling generations-old ...</td>\n",
       "      <td>166.578</td>\n",
       "      <td>/gGEsBPAijhVUFoiNpgZXqRVWJt2.jpg</td>\n",
       "      <td>The celebration of a lifetime</td>\n",
       "      <td>Family, Animation, Fantasy, Music, Comedy, Adv...</td>\n",
       "      <td>Pixar, Walt Disney Pictures</td>\n",
       "      <td>United States of America</td>\n",
       "      <td>English, Spanish</td>\n",
       "    </tr>\n",
       "    <tr>\n",
       "      <th>4</th>\n",
       "      <td>10681</td>\n",
       "      <td>WALL·E</td>\n",
       "      <td>8.078</td>\n",
       "      <td>17446</td>\n",
       "      <td>Released</td>\n",
       "      <td>2008-06-22</td>\n",
       "      <td>521311860</td>\n",
       "      <td>98</td>\n",
       "      <td>False</td>\n",
       "      <td>/fK5ssgvtI43z19FoWigdlqgpLRE.jpg</td>\n",
       "      <td>180000000</td>\n",
       "      <td>https://www.pixar.com/feature-films/walle/</td>\n",
       "      <td>tt0910970</td>\n",
       "      <td>en</td>\n",
       "      <td>WALL·E</td>\n",
       "      <td>What if mankind had to leave Earth and somebod...</td>\n",
       "      <td>58.517</td>\n",
       "      <td>/hbhFnRzzg6ZDmm8YAmxBnQpQIPh.jpg</td>\n",
       "      <td>After 700 years of doing what he was built for...</td>\n",
       "      <td>Animation, Family, Science Fiction</td>\n",
       "      <td>Pixar, Walt Disney Pictures</td>\n",
       "      <td>United States of America</td>\n",
       "      <td>English</td>\n",
       "    </tr>\n",
       "  </tbody>\n",
       "</table>\n",
       "</div>"
      ],
      "text/plain": [
       "       id         title  vote_average  vote_count    status release_date  \\\n",
       "0  150540    Inside Out         7.922       19463  Released   2015-06-09   \n",
       "1   14160            Up         7.949       18857  Released   2009-05-28   \n",
       "2      12  Finding Nemo         7.824       18061  Released   2003-05-30   \n",
       "3  354912          Coco         8.222       17742  Released   2017-10-27   \n",
       "4   10681        WALL·E         8.078       17446  Released   2008-06-22   \n",
       "\n",
       "     revenue  runtime  adult                     backdrop_path     budget  \\\n",
       "0  857611174       95  False  /j29ekbcLpBvxnGk6LjdTc2EI5SA.jpg  175000000   \n",
       "1  735099082       96  False  /hGGC9gKo7CFE3fW07RA587e5kol.jpg  175000000   \n",
       "2  940335536      100  False  /h3uqFk7sZRJvLZDdLiFB9qwbL07.jpg   94000000   \n",
       "3  800526015      105  False  /askg3SMvhqEl4OL52YuvdtY40Yb.jpg  175000000   \n",
       "4  521311860       98  False  /fK5ssgvtI43z19FoWigdlqgpLRE.jpg  180000000   \n",
       "\n",
       "                                     homepage    imdb_id original_language  \\\n",
       "0         http://movies.disney.com/inside-out  tt2096673                en   \n",
       "1     http://disney.go.com/disneypictures/up/  tt1049413                en   \n",
       "2       http://movies.disney.com/finding-nemo  tt0266543                en   \n",
       "3    https://www.pixar.com/feature-films/coco  tt2380307                en   \n",
       "4  https://www.pixar.com/feature-films/walle/  tt0910970                en   \n",
       "\n",
       "  original_title                                           overview  \\\n",
       "0     Inside Out  Growing up can be a bumpy road, and it's no ex...   \n",
       "1             Up  Carl Fredricksen spent his entire life dreamin...   \n",
       "2   Finding Nemo  Nemo, an adventurous young clownfish, is unexp...   \n",
       "3           Coco  Despite his family’s baffling generations-old ...   \n",
       "4         WALL·E  What if mankind had to leave Earth and somebod...   \n",
       "\n",
       "   popularity                       poster_path  \\\n",
       "0     107.292  /2H1TmgdfNtsKlU9jKdeNyYL5y8T.jpg   \n",
       "1      90.968  /vpbaStTMt8qqXaEgnOR2EE4DNJk.jpg   \n",
       "2      55.456  /ggQ6o8X5984OCh3kZi2UIJQJY5y.jpg   \n",
       "3     166.578  /gGEsBPAijhVUFoiNpgZXqRVWJt2.jpg   \n",
       "4      58.517  /hbhFnRzzg6ZDmm8YAmxBnQpQIPh.jpg   \n",
       "\n",
       "                                             tagline  \\\n",
       "0           Meet the little voices inside your head.   \n",
       "1  The greatest adventure is just getting back home.   \n",
       "2  There are 3.7 trillion fish in the ocean. They...   \n",
       "3                      The celebration of a lifetime   \n",
       "4  After 700 years of doing what he was built for...   \n",
       "\n",
       "                                              genres  \\\n",
       "0        Animation, Family, Adventure, Drama, Comedy   \n",
       "1               Animation, Comedy, Family, Adventure   \n",
       "2                                  Animation, Family   \n",
       "3  Family, Animation, Fantasy, Music, Comedy, Adv...   \n",
       "4                 Animation, Family, Science Fiction   \n",
       "\n",
       "          production_companies      production_countries  spoken_languages  \n",
       "0  Pixar, Walt Disney Pictures  United States of America           English  \n",
       "1                        Pixar  United States of America           English  \n",
       "2                        Pixar  United States of America           English  \n",
       "3  Pixar, Walt Disney Pictures  United States of America  English, Spanish  \n",
       "4  Pixar, Walt Disney Pictures  United States of America           English  "
      ]
     },
     "execution_count": 3,
     "metadata": {},
     "output_type": "execute_result"
    }
   ],
   "source": [
    "#looking at top 5 rows \n",
    "df.head()"
   ]
  },
  {
   "cell_type": "code",
   "execution_count": 4,
   "id": "71e022a2",
   "metadata": {
    "scrolled": true
   },
   "outputs": [
    {
     "name": "stdout",
     "output_type": "stream",
     "text": [
      "<class 'pandas.core.frame.DataFrame'>\n",
      "RangeIndex: 51945 entries, 0 to 51944\n",
      "Data columns (total 23 columns):\n",
      " #   Column                Non-Null Count  Dtype  \n",
      "---  ------                --------------  -----  \n",
      " 0   id                    51945 non-null  int64  \n",
      " 1   title                 51944 non-null  object \n",
      " 2   vote_average          51945 non-null  float64\n",
      " 3   vote_count            51945 non-null  int64  \n",
      " 4   status                51945 non-null  object \n",
      " 5   release_date          49808 non-null  object \n",
      " 6   revenue               51945 non-null  int64  \n",
      " 7   runtime               51945 non-null  int64  \n",
      " 8   adult                 51945 non-null  bool   \n",
      " 9   backdrop_path         15835 non-null  object \n",
      " 10  budget                51945 non-null  int64  \n",
      " 11  homepage              8253 non-null   object \n",
      " 12  imdb_id               29552 non-null  object \n",
      " 13  original_language     51945 non-null  object \n",
      " 14  original_title        51944 non-null  object \n",
      " 15  overview              45866 non-null  object \n",
      " 16  popularity            51945 non-null  float64\n",
      " 17  poster_path           37934 non-null  object \n",
      " 18  tagline               4678 non-null   object \n",
      " 19  genres                51945 non-null  object \n",
      " 20  production_companies  29398 non-null  object \n",
      " 21  production_countries  39700 non-null  object \n",
      " 22  spoken_languages      33818 non-null  object \n",
      "dtypes: bool(1), float64(2), int64(5), object(15)\n",
      "memory usage: 8.8+ MB\n"
     ]
    }
   ],
   "source": [
    "df.info()"
   ]
  },
  {
   "cell_type": "code",
   "execution_count": 5,
   "id": "d3ba0ef1",
   "metadata": {
    "scrolled": true
   },
   "outputs": [
    {
     "data": {
      "text/plain": [
       "0"
      ]
     },
     "execution_count": 5,
     "metadata": {},
     "output_type": "execute_result"
    }
   ],
   "source": [
    "df.duplicated().sum()"
   ]
  },
  {
   "cell_type": "code",
   "execution_count": 6,
   "id": "e645face",
   "metadata": {},
   "outputs": [
    {
     "data": {
      "text/plain": [
       "id                          0\n",
       "title                       1\n",
       "vote_average                0\n",
       "vote_count                  0\n",
       "status                      0\n",
       "release_date             2137\n",
       "revenue                     0\n",
       "runtime                     0\n",
       "adult                       0\n",
       "backdrop_path           36110\n",
       "budget                      0\n",
       "homepage                43692\n",
       "imdb_id                 22393\n",
       "original_language           0\n",
       "original_title              1\n",
       "overview                 6079\n",
       "popularity                  0\n",
       "poster_path             14011\n",
       "tagline                 47267\n",
       "genres                      0\n",
       "production_companies    22547\n",
       "production_countries    12245\n",
       "spoken_languages        18127\n",
       "dtype: int64"
      ]
     },
     "execution_count": 6,
     "metadata": {},
     "output_type": "execute_result"
    }
   ],
   "source": [
    "#looking at columns with missing values\n",
    "df.isnull().sum()"
   ]
  },
  {
   "cell_type": "code",
   "execution_count": 7,
   "id": "3d8ab0f4",
   "metadata": {},
   "outputs": [
    {
     "data": {
      "text/plain": [
       "(51945, 23)"
      ]
     },
     "execution_count": 7,
     "metadata": {},
     "output_type": "execute_result"
    }
   ],
   "source": [
    "#looking at total rows and columns\n",
    "df.shape"
   ]
  },
  {
   "cell_type": "code",
   "execution_count": 8,
   "id": "efdbbf17",
   "metadata": {},
   "outputs": [
    {
     "data": {
      "text/plain": [
       "51945"
      ]
     },
     "execution_count": 8,
     "metadata": {},
     "output_type": "execute_result"
    }
   ],
   "source": [
    "#length of df \n",
    "len(df)"
   ]
  },
  {
   "cell_type": "code",
   "execution_count": 9,
   "id": "6cd5a528",
   "metadata": {},
   "outputs": [
    {
     "data": {
      "text/plain": [
       "4.113966695543363"
      ]
     },
     "execution_count": 9,
     "metadata": {},
     "output_type": "execute_result"
    }
   ],
   "source": [
    "#percentage of missing data in release_date \n",
    "df['release_date'].isnull().sum()/len(df) *100"
   ]
  },
  {
   "cell_type": "code",
   "execution_count": 10,
   "id": "cb1d720c",
   "metadata": {},
   "outputs": [
    {
     "data": {
      "text/plain": [
       "43.40552507459813"
      ]
     },
     "execution_count": 10,
     "metadata": {},
     "output_type": "execute_result"
    }
   ],
   "source": [
    "#percentage of missing data in production_companies\n",
    "df['production_companies'].isnull().sum()/len(df) *100"
   ]
  },
  {
   "cell_type": "code",
   "execution_count": 11,
   "id": "1f21893e",
   "metadata": {},
   "outputs": [
    {
     "data": {
      "text/plain": [
       "23.57300991433247"
      ]
     },
     "execution_count": 11,
     "metadata": {},
     "output_type": "execute_result"
    }
   ],
   "source": [
    "#percentage of missing data in production_countries\n",
    "df['production_countries'].isnull().sum()/len(df) *100"
   ]
  },
  {
   "cell_type": "code",
   "execution_count": 12,
   "id": "dc709e42",
   "metadata": {},
   "outputs": [
    {
     "data": {
      "text/plain": [
       "34.896525170853785"
      ]
     },
     "execution_count": 12,
     "metadata": {},
     "output_type": "execute_result"
    }
   ],
   "source": [
    "#percentage of missing data in spoken_languages\n",
    "df['spoken_languages'].isnull().sum()/len(df) *100"
   ]
  },
  {
   "cell_type": "code",
   "execution_count": 13,
   "id": "39a41a62",
   "metadata": {},
   "outputs": [
    {
     "data": {
      "text/plain": [
       "array(['en', 'ja', 'fr', 'he', 'it', 'es', 'zh', 'pl', 'uk', 'ko', 'da',\n",
       "       'ru', 'de', 'cs', 'pt', 'xx', 'tr', 'fi', 'hu', 'no', 'fa', 'dz',\n",
       "       'sr', 'th', 'is', 'sv', 'nl', 'la', 'eu', 'hi', 'ta', 'ar', 'sk',\n",
       "       'cn', 'gl', 'sh', 'lv', 'ms', 'et', 'el', 'nb', 'mo', 'hr', 'ur',\n",
       "       'pa', 'tl', 'ro', 'sl', 'ca', 'iu', 'hy', 'bg', 'ga', 'si', 'id',\n",
       "       'uz', 'mi', 'bn', 'lt', 'sq', 'os', 'bs', 'mn', 'ml', 'sa', 'ab',\n",
       "       'te', 'be', 'vi', 'zu', 'ku', 'ka', 'nn', 'oc', 'as', 'mk', 'ht',\n",
       "       'sw', 'cy', 'af', 'cr', 'gn', 'mr', 'qu', 'ha', 'yi', 'st', 'kk',\n",
       "       'az', 'my', 'am', 'mg', 'bo', 'se', 'jv', 'ch', 'kl', 'gd', 'lb',\n",
       "       'tk', 'so', 'ne'], dtype=object)"
      ]
     },
     "execution_count": 13,
     "metadata": {},
     "output_type": "execute_result"
    }
   ],
   "source": [
    "#unique languages\n",
    "df['original_language'].unique()"
   ]
  },
  {
   "cell_type": "code",
   "execution_count": 14,
   "id": "adff47d2",
   "metadata": {},
   "outputs": [
    {
     "data": {
      "text/plain": [
       "array(['English', 'English, Spanish', 'French, English',\n",
       "       'English, French', 'Japanese', 'English, Japanese, Spanish',\n",
       "       'English, Italian, Japanese, Yiddish',\n",
       "       'English, French, German, Portuguese, Spanish',\n",
       "       'English, Mandarin', 'Spanish, English', 'English, Italian',\n",
       "       'English, French, German, Italian, Japanese',\n",
       "       'English, Spanish, Greek', 'English, Portuguese',\n",
       "       'Croatian, English, Inuktitut', 'English, Russian, French',\n",
       "       'English, French, Latin', 'Latin, English',\n",
       "       'Cantonese, Mandarin, Korean, French, English',\n",
       "       'English, Japanese', 'English, Hindi, Italian, Spanish',\n",
       "       'English, French, Spanish', 'English, Spanish, French, Japanese',\n",
       "       'Hebrew, English', 'English, Northern Sami',\n",
       "       'French, German, Italian, Japanese', 'Mandarin, English',\n",
       "       'English, Yiddish', 'Persian, French, German',\n",
       "       'English, Latin, Spanish', 'French, English, Portuguese',\n",
       "       'Portuguese, English', 'English, Galician, Irish', 'French',\n",
       "       'No Language', 'English, Spanish, Latin, Ukrainian',\n",
       "       'English, Arabic, Portuguese', 'English, Irish',\n",
       "       'Hebrew, Arabic, German, English', 'Japanese, English',\n",
       "       'English, Portuguese, Spanish', nan, 'English, Hungarian',\n",
       "       'Danish, Italian', 'German, French, English',\n",
       "       'French, Gaelic, English', 'Spanish', 'Cantonese, Mandarin',\n",
       "       'English, No Language', 'Japanese, Italian',\n",
       "       'English, German, Spanish', 'Polish', 'English, German',\n",
       "       'Arabic, French, Spanish', 'Mandarin', 'Ukrainian', 'Korean',\n",
       "       'Esperanto, English', 'English, Spanish, Polish',\n",
       "       'Mandarin, Portuguese', 'Spanish, Danish, French, Latin',\n",
       "       'Mandarin, Japanese', 'English, Hebrew',\n",
       "       'Korean, Spanish, English', 'Croatian, Spanish',\n",
       "       'Russian, French, Portuguese, English',\n",
       "       'English, Danish, Portuguese',\n",
       "       'Danish, English, French, Persian, Russian, Swedish',\n",
       "       'German, Japanese', 'German',\n",
       "       'Avaric, Amharic, Arabic, Portuguese, English, Mandarin',\n",
       "       'Danish, English', 'German, Spanish, English, Dutch, Portuguese',\n",
       "       'Czech', 'English, Danish', 'Mandarin, French',\n",
       "       'Portuguese, Spanish', 'Danish', 'German, English',\n",
       "       'Arabic, English, German, Thai',\n",
       "       'German, Hungarian, English, Italian', 'Japanese, French',\n",
       "       'Italian, English', 'English, Czech', 'Spanish, English, French',\n",
       "       'Portuguese', 'Russian', 'Dutch, Italian', 'Italian',\n",
       "       'Czech, English, Spanish, Italian',\n",
       "       'Cantonese, Mandarin, English, French',\n",
       "       'English, Portuguese, Hungarian', 'German, English, French',\n",
       "       'No Language, Spanish', 'English, Polish', 'French, Italian',\n",
       "       'Spanish, Portuguese', 'Czech, English', 'Turkish',\n",
       "       'Dutch, English', 'Danish, English, Hungarian',\n",
       "       'English, German, Japanese', 'English, German, Dutch, Mandarin',\n",
       "       'Arabic, Italian, English', 'English, German, Norwegian',\n",
       "       'Portuguese, German, French, Spanish, Mandarin',\n",
       "       'English, Spanish, French', 'English, Finnish',\n",
       "       'No Language, English', 'German, Spanish',\n",
       "       'Hungarian, English, Italian', 'Russian, Ukrainian',\n",
       "       'English, Spanish, Galician',\n",
       "       'Cantonese, Mandarin, English, Moldavian, Russian',\n",
       "       'English, Italian, Portuguese', 'German, English, Mandarin',\n",
       "       'Spanish, English, Portuguese',\n",
       "       'English, French, Spanish, Catalan', 'English, Italian, Turkish',\n",
       "       'English, Italian, Romanian', 'German, Japanese, Russian',\n",
       "       'English, Polish, Portuguese, Spanish', 'English, German, French',\n",
       "       'Czech, Portuguese, English', 'French, Spanish',\n",
       "       'English, Swedish', 'Inupiaq, Japanese', 'Slovenian',\n",
       "       'Russian, Japanese', 'English, Dutch', 'English, Turkish',\n",
       "       'English, Hebrew, Russian, Yiddish',\n",
       "       'English, French, Spanish, Norwegian, Portuguese, Italian',\n",
       "       'German, Italian', 'English, Norwegian',\n",
       "       'English, Italian, Spanish', 'German, English, French, Portuguese',\n",
       "       'English, Galician, German', 'Dutch, English, German, Italian',\n",
       "       'Persian', 'Czech, English, Spanish', 'Guarani, Portuguese',\n",
       "       'Hungarian', 'French, Spanish, English', 'Czech, No Language',\n",
       "       'Hungarian, English', 'Danish, English, Norwegian, Swedish',\n",
       "       'Norwegian', 'Czech, Latin', 'English, Russian',\n",
       "       'English, French, Mandarin, Russian, Turkish, German',\n",
       "       'Portuguese, French', 'English, Estonian', 'German, Russian',\n",
       "       'English, French, Portuguese',\n",
       "       'English, German, Japanese, Portuguese',\n",
       "       'French, Greek, English, Italian', 'English, Yiddish, Italian',\n",
       "       'French, No Language', 'French, English, German', 'Finnish',\n",
       "       'Italian, Japanese', 'German, French, Hungarian',\n",
       "       'Italian, Spanish', 'Portuguese, Serbian',\n",
       "       'French, Italian, Portuguese',\n",
       "       'English, French, German, Italian, Spanish',\n",
       "       'Icelandic, English, German', 'Italian, German, French',\n",
       "       'German, French', 'Galician, Spanish',\n",
       "       'Dutch, English, German, Hungarian', 'Croatian, Spanish, English',\n",
       "       'Swedish', 'Danish, English, French, Polish, Czech',\n",
       "       'French, German, Italian', 'English, Korean', 'English, Catalan',\n",
       "       'English, French, German', 'Catalan', 'Russian, Serbo-Croatian',\n",
       "       'Spanish, French, Italian, Japanese', 'German, French, Italian',\n",
       "       'Arabic, Italian, Dutch, Czech',\n",
       "       'Afrikaans, English, German, Spanish',\n",
       "       'Danish, Finnish, French, Norwegian, Swedish', 'French, German',\n",
       "       'English, Italian, Polish, Portuguese, German',\n",
       "       'Portuguese, Spanish, English', 'Cree, Spanish, English',\n",
       "       'English, French, Italian', 'Basque', 'French, Russian',\n",
       "       'Danish, Norwegian', 'Dutch, French', 'Cantonese, German',\n",
       "       'No Language, Russian', 'Hindi', 'Arabic, Russian',\n",
       "       'Spanish, Hebrew, Italian', 'Icelandic', 'English, Hindi',\n",
       "       'Danish, Dutch', 'German, Estonian, French',\n",
       "       'French, English, Japanese', 'Tamil',\n",
       "       'German, Spanish, French, Italian, Japanese', 'Cantonese', 'Dutch',\n",
       "       'Portuguese, German, English, Italian', 'Russian, French',\n",
       "       'German, Spanish, English', 'Arabic', 'Czech, German, Russian',\n",
       "       'English, German, Hungarian, French',\n",
       "       'English, Dutch, Polish, Russian', 'Spanish, Dutch',\n",
       "       'Japanese, Korean', 'English, Korean, French', 'Zulu',\n",
       "       'Afrikaans, German', 'Italian, Dutch, Portuguese, Spanish',\n",
       "       'Japanese, German',\n",
       "       'English, Georgian, Hebrew, Italian, German, Russian, French',\n",
       "       'Czech, English, Italian', 'English, Italian, French',\n",
       "       'English, French, Croatian, German', 'Mandarin, English, Thai',\n",
       "       'Latvian', 'Dutch, German', 'German, Spanish, French',\n",
       "       'English, Spanish, Croatian, Italian',\n",
       "       'Mandarin, French, Cantonese', 'Arabic, French, English', 'Malay',\n",
       "       'Greek, English', 'Hungarian, Russian', 'English, Danish, Spanish',\n",
       "       'Greek', 'English, German, Greek', 'Spanish, Mandarin',\n",
       "       'French, English, Spanish, Norwegian', 'Moldavian',\n",
       "       'English, Hungarian, German', 'Estonian, French, Italian, German',\n",
       "       'Thai', 'Croatian', 'Mandarin, Japanese, English', 'Estonian',\n",
       "       'Japanese, Spanish', 'French, Polish', 'Italian, Portuguese',\n",
       "       'Estonian, Russian', 'English, Danish, Polish', 'French, Japanese',\n",
       "       'German, Hungarian, Italian', 'Mandarin, Cantonese',\n",
       "       'Malay, Indonesian', 'English, Urdu',\n",
       "       'Arabic, Basque, Catalan, English, French, Spanish',\n",
       "       'German, Italian, Thai', 'English, Hindi, Punjabi',\n",
       "       'Danish, German, Swedish', 'English, Italian, Swedish',\n",
       "       'German, English, Spanish, French', 'Tagalog', 'Russian, English',\n",
       "       'English, Ukrainian', 'French, English, Russian',\n",
       "       'Spanish, Swedish', 'English, Romanian', 'Kazakh, Russian',\n",
       "       'Spanish, French', 'Thai, English', 'Russian, German',\n",
       "       'Bulgarian, English, French, Hebrew',\n",
       "       'English, Mandarin, German, Russian',\n",
       "       'Basque, English, Hindi, Spanish, Tamil',\n",
       "       'German, English, Italian', 'German, Spanish, Italian',\n",
       "       'Dutch, Japanese, Indonesian, English', 'German, English, Polish',\n",
       "       'Romanian', 'Inuktitut', 'German, Italian, Spanish',\n",
       "       'Arabic, English, Hebrew', 'Spanish, English, Japanese', 'Hebrew',\n",
       "       'Korean, English', 'Tagalog, English', 'English, Persian, Czech',\n",
       "       'Arabic, English, Malay, Turkish, Urdu', 'German, Danish',\n",
       "       'Arabic, English, Turkish, Urdu', 'Hungarian, Latvian',\n",
       "       'French, Czech', 'German, English, Portuguese',\n",
       "       'Polish, English, French', 'German, Dutch',\n",
       "       'Bosnian, Bulgarian, Estonian, Hungarian, Romanian, Serbian',\n",
       "       'Latin, Russian', 'English, German, Portuguese',\n",
       "       'English, Cantonese, Mandarin', 'English, French, Japanese',\n",
       "       'Arabic, Danish, Dutch, English, Hungarian, Swedish',\n",
       "       'English, Welsh', 'Arabic, Japanese', 'Armenian', 'Igbo, English',\n",
       "       'Bulgarian', 'Hindi, English, Tamil, Telugu', 'Czech, German',\n",
       "       'Italian, German', 'Swedish, English', 'Urdu',\n",
       "       'Norwegian, Swedish', 'English, Cantonese',\n",
       "       'Swedish, English, Icelandic',\n",
       "       'Dutch, English, Portuguese, Swedish', 'Ndebele, No Language',\n",
       "       'Malay, English', 'Serbo-Croatian', 'English, Latvian, Russian',\n",
       "       'German, English, Japanese', 'English, German, Persian',\n",
       "       'Catalan, Spanish', 'Icelandic, Japanese', 'Slovak',\n",
       "       'English, Finnish, Swedish',\n",
       "       'Russian, French, Mandarin, Dutch, English',\n",
       "       'German, Korean, Dutch, Russian, Czech', 'Japanese, No Language',\n",
       "       'Irish', 'Dutch, English, Russian, Swedish', 'Sinhalese',\n",
       "       'Azerbaijani, Russian',\n",
       "       'Arabic, Danish, English, Hindi, Italian, Swedish',\n",
       "       'Dutch, Turkish', 'Arabic, French', 'Hiri Motu, Russian',\n",
       "       'German, Slovak', 'English, French, German, Italian, Turkish',\n",
       "       'English, Somali', 'Indonesian',\n",
       "       'Armenian, English, German, Kurdish, Turkish',\n",
       "       'German, Italian, Japanese', 'Armenian, Russian',\n",
       "       'Bulgarian, English, Spanish', 'Turkish, English', 'Uzbek',\n",
       "       'Danish, English, Spanish', 'English, German, Italian, Portuguese',\n",
       "       'Czech, Danish, English', 'English, Thai', 'Polish, English',\n",
       "       'Hindi, English', 'Bengali, English, Hindi', 'Spanish, Persian',\n",
       "       'German, Spanish, French, Dutch, English, Portuguese',\n",
       "       'English, Spanish, Dutch, Norwegian, Finnish',\n",
       "       'German, English, French, Dutch, Portuguese, Spanish',\n",
       "       'Korean, No Language', 'English, Italian, Dutch',\n",
       "       'English, German, Italian', 'Italian, Russian',\n",
       "       'French, Italian, German', 'English, French, Italian, Spanish',\n",
       "       'Spanish, Korean', 'Hungarian, English, Moldavian',\n",
       "       'Basque, Spanish', 'Dutch, English, Japanese',\n",
       "       'English, Hindi, Tamil, Telugu', 'German, Swedish',\n",
       "       'Spanish, Italian, Portuguese',\n",
       "       'Kannada, Malayalam, Tamil, Telugu', 'Spanish, English, Mandarin',\n",
       "       'German, English, Dutch', 'Albanian', 'French, Portuguese',\n",
       "       'Polish, No Language', 'Mandarin, English, Korean',\n",
       "       'German, Polish', 'Catalan, French, Spanish', 'Punjabi',\n",
       "       'Russian, English, French',\n",
       "       'Slovak, Spanish, Hungarian, English, Czech',\n",
       "       'English, Ossetian; Ossetic', 'Bosnian',\n",
       "       'Spanish, German, English, French',\n",
       "       'Portuguese, English, French, Dutch', 'French, Hebrew',\n",
       "       'Hungarian, Spanish', 'English, Zulu', 'Afrikaans, English',\n",
       "       'English, Yoruba', 'English, Shona', 'English, Swahili',\n",
       "       'English, Serbian', 'French, English, No Language',\n",
       "       'Spanish, French, English, Japanese', 'Serbian',\n",
       "       'Dutch, English, German', 'Dutch, Spanish', 'Mongolian',\n",
       "       'Basque, Spanish, French', 'English, Malayalam', 'Sanskrit',\n",
       "       'Spanish, French, English',\n",
       "       'French, English, Italian, Dutch, Portuguese, Spanish',\n",
       "       'French, Dutch', 'Danish, English, Russian',\n",
       "       'Danish, Dutch, Norwegian, English', 'German, No Language',\n",
       "       'English, Latin', 'Bengali', 'No Language, Swedish',\n",
       "       'Danish, Norwegian, Swedish', 'English, Italian, Japanese',\n",
       "       'German, English, Croatian', 'French, Dutch, English',\n",
       "       'Hebrew, Russian', 'Bengali, Hindi, Tamil, Telugu',\n",
       "       'Japanese, Russian', 'Croatian, English, Slovenian', 'Belarusian',\n",
       "       'Vietnamese', 'Czech, English, Hebrew',\n",
       "       'Japanese, Mandarin, Korean', 'Hindi, Tamil, Telugu',\n",
       "       'English, Tagalog', 'English, Inuktitut', 'Kurdish', 'Malayalam',\n",
       "       'Georgian', 'German, English, French, Spanish',\n",
       "       'German, French, Japanese', 'Abkhazian', 'English, Persian',\n",
       "       'Korean, Russian, Japanese, English', 'No Language, Portuguese',\n",
       "       'Japanese, English, Mandarin, Korean', 'Danish, Latvian',\n",
       "       'Greek, Russian, Swedish', 'Arabic, Kurdish',\n",
       "       'English, Hindi, Telugu', 'English, Romanian, Swedish',\n",
       "       'Danish, English, Finnish, Norwegian, Swedish',\n",
       "       'English, Hebrew, Russian', 'Occitan',\n",
       "       'Maori, Samoan, Turkish, English', 'English, Italian, No Language',\n",
       "       'Czech, Vietnamese', 'Cantonese, English', 'Assamese',\n",
       "       'Spanish, English, Latin', 'Russian, Mandarin',\n",
       "       'English, French, Czech', 'English, Russian, Japanese',\n",
       "       'Korean, Russian', 'No Language, Ukrainian', 'Slavic, Ukrainian',\n",
       "       'Macedonian', 'Swahili', 'Arabic, English', 'French, Persian',\n",
       "       'Finnish, Swedish', 'Ido, English', 'Japanese, Russian, Turkish',\n",
       "       'Polish, Russian', 'English, Hindi, Malayalam', 'German, Hebrew',\n",
       "       'Italian, Romanian', 'Basque, Russian', 'No Language, Dutch',\n",
       "       'Japanese, Indonesian, Mandarin, Korean', 'Dutch, Swedish',\n",
       "       'Japanese, Mandarin', 'Mandarin, English, Italian',\n",
       "       'Mandarin, English, Indonesian, Japanese',\n",
       "       'English, Estonian, French, Italian', 'Afar, English',\n",
       "       'Basque, Bengali, English, Hindi, Spanish', 'Catalan, English',\n",
       "       'Latin, Portuguese', 'Arabic, Hebrew', 'Latin, No Language',\n",
       "       'English, French, Russian', 'Armenian, English', 'Cree, English',\n",
       "       'Galician', 'Guarani', 'German, English, French, Italian', 'Latin',\n",
       "       'English, French, German, Norwegian, Persian', 'Spanish, Basque',\n",
       "       'Japanese, Tagalog', 'Esperanto', 'Spanish, English, Russian',\n",
       "       'Bulgarian, English, French, German, Spanish',\n",
       "       'English, Hindi, Marathi', 'Cantonese, Mandarin, English',\n",
       "       'Spanish, Catalan', 'Indonesian, Javanese', 'Maori',\n",
       "       'English, Greek', 'Swedish, English, French',\n",
       "       'Mandarin, English, Japanese, Korean', 'Georgian, Russian',\n",
       "       'Quechua', 'Bengali, Mandarin, English',\n",
       "       'Cantonese, English, No Language', 'English, Armenian, French',\n",
       "       'Lithuanian', 'Japanese, Persian', 'English, Hausa',\n",
       "       'Spanish, Galician', 'Arabic, German', 'Russian, Yiddish',\n",
       "       'Yiddish, English', 'Samoan', 'Spanish, No Language', 'Kazakh',\n",
       "       'English, Navajo, Tibetan', 'Belarusian, English, French, Russian',\n",
       "       'German, Vietnamese', 'Spanish, English, Basque', 'Breton, French',\n",
       "       'Azerbaijani, Danish, French, German, Hebrew, Hungarian, Japanese, Lithuanian, Moldavian, Polish, Swedish, Tatar, Ukrainian',\n",
       "       'Afrikaans', 'Spanish, Galician, English', 'Bulgarian, English',\n",
       "       'English, Lithuanian', 'French, Greek, English, Italian, Spanish',\n",
       "       'English, Finnish, French, Russian, Swedish',\n",
       "       'English, Hindi, Kannada, Malayalam, Tamil, Telugu',\n",
       "       'English, Hindi, Urdu', 'Azerbaijani',\n",
       "       'English, German, Vietnamese', 'English, German, Ukrainian',\n",
       "       'French, Latvian', 'Mandarin, Indonesian', 'Arabic, Dutch',\n",
       "       'German, Irish', 'Yiddish', 'English, Finnish, Romanian',\n",
       "       'Burmese', 'English, Kannada', 'Welsh', 'Azerbaijani, Persian',\n",
       "       'Croatian, Italian', 'Amharic', 'Russian, Uzbek',\n",
       "       'English, Russian, Ukrainian', 'English, Vietnamese',\n",
       "       'Cantonese, Cree, English', 'Italian, Japanese, Russian',\n",
       "       'Czech, Polish, Russian', 'English, Polish, Swedish',\n",
       "       'English, Romanian, Russian', 'Norwegian, Danish',\n",
       "       'Burmese, No Language', 'Cree', 'English, Arabic',\n",
       "       'Romanian, English', 'English, Tamil', 'Tibetan',\n",
       "       'Italian, Russian, English',\n",
       "       'English, French, Italian, Portuguese, Spanish',\n",
       "       'Arabic, English, French, German, Italian, Japanese, Russian',\n",
       "       'Danish, Norwegian Bokmål, Swedish', 'Arabic, No Language',\n",
       "       'Arabic, English, French, Spanish', 'English, German, Hungarian',\n",
       "       'English, French, Greek, Russian, Spanish',\n",
       "       'Hebrew, Portuguese, Russian', 'German, French, Spanish, English',\n",
       "       'German, Italian, English, French',\n",
       "       'Danish, English, French, Spanish', 'Bosnian, Serbian',\n",
       "       'Danish, English, Dutch, Polish, Norwegian, Swedish, Finnish',\n",
       "       'French, Italian, Spanish', 'No Language, Czech',\n",
       "       'Dutch, English, French', 'Danish, English, French, Dutch',\n",
       "       'Swedish, Norwegian, English, Danish, Finnish', 'Spanish, Quechua',\n",
       "       'Spanish, Russian', 'English, Bosnian',\n",
       "       'Mandarin, English, Japanese', 'English, Galician, Spanish',\n",
       "       'English, Icelandic', 'Haitian; Haitian Creole', 'Spanish, Latin',\n",
       "       'Northern Sami', 'English, Estonian, German', 'Bambara, Yoruba',\n",
       "       'Mandarin, English, German, Japanese', 'Javanese',\n",
       "       'Kurdish, Turkish', 'English, Hindi, Italian',\n",
       "       'French, Greek, Portuguese, Spanish', 'Czech, Hungarian, Polish',\n",
       "       'Arabic, English, French', 'Mandarin, Spanish, English',\n",
       "       'Hungarian, No Language', 'English, French, Korean',\n",
       "       'Mandarin, Kazakh', 'Gaelic', 'Greek, Italian', 'Letzeburgesch',\n",
       "       'Dzongkha', 'Kirghiz', 'Turkmen', 'Somali', 'Nepali',\n",
       "       'English, Mandarin, Russian', 'English, Slovak',\n",
       "       'Japanese, English, Mandarin'], dtype=object)"
      ]
     },
     "execution_count": 14,
     "metadata": {},
     "output_type": "execute_result"
    }
   ],
   "source": [
    "#unique spoken_languages. To decide to analyze later or not \n",
    "df['spoken_languages'].unique()"
   ]
  },
  {
   "cell_type": "code",
   "execution_count": 15,
   "id": "4cf82463",
   "metadata": {},
   "outputs": [],
   "source": [
    "#list of columns to drop \n",
    "columns_to_drop = ['backdrop_path', 'homepage', 'imdb_id', 'overview', 'original_title', 'poster_path', 'tagline', 'spoken_languages']\n",
    "\n",
    "#drop specified columns in-place\n",
    "df.drop(columns=columns_to_drop, inplace=True)"
   ]
  },
  {
   "cell_type": "code",
   "execution_count": 16,
   "id": "fcb30190",
   "metadata": {
    "scrolled": true
   },
   "outputs": [
    {
     "name": "stdout",
     "output_type": "stream",
     "text": [
      "<class 'pandas.core.frame.DataFrame'>\n",
      "RangeIndex: 51945 entries, 0 to 51944\n",
      "Data columns (total 15 columns):\n",
      " #   Column                Non-Null Count  Dtype  \n",
      "---  ------                --------------  -----  \n",
      " 0   id                    51945 non-null  int64  \n",
      " 1   title                 51944 non-null  object \n",
      " 2   vote_average          51945 non-null  float64\n",
      " 3   vote_count            51945 non-null  int64  \n",
      " 4   status                51945 non-null  object \n",
      " 5   release_date          49808 non-null  object \n",
      " 6   revenue               51945 non-null  int64  \n",
      " 7   runtime               51945 non-null  int64  \n",
      " 8   adult                 51945 non-null  bool   \n",
      " 9   budget                51945 non-null  int64  \n",
      " 10  original_language     51945 non-null  object \n",
      " 11  popularity            51945 non-null  float64\n",
      " 12  genres                51945 non-null  object \n",
      " 13  production_companies  29398 non-null  object \n",
      " 14  production_countries  39700 non-null  object \n",
      "dtypes: bool(1), float64(2), int64(5), object(7)\n",
      "memory usage: 5.6+ MB\n"
     ]
    }
   ],
   "source": [
    "#looking at new df \n",
    "df.info()"
   ]
  },
  {
   "cell_type": "code",
   "execution_count": 17,
   "id": "df743277",
   "metadata": {},
   "outputs": [],
   "source": [
    "# Drop rows with null values in the \"release_date\" column\n",
    "df.dropna(subset=['release_date'], inplace=True)"
   ]
  },
  {
   "cell_type": "code",
   "execution_count": 18,
   "id": "43935351",
   "metadata": {},
   "outputs": [],
   "source": [
    "# Drop rows with null values in the \"title\" column\n",
    "df.dropna(subset=['title'], inplace=True)"
   ]
  },
  {
   "cell_type": "code",
   "execution_count": 19,
   "id": "2e8b78cc",
   "metadata": {
    "scrolled": false
   },
   "outputs": [
    {
     "data": {
      "text/plain": [
       "id                          0\n",
       "title                       0\n",
       "vote_average                0\n",
       "vote_count                  0\n",
       "status                      0\n",
       "release_date                0\n",
       "revenue                     0\n",
       "runtime                     0\n",
       "adult                       0\n",
       "budget                      0\n",
       "original_language           0\n",
       "popularity                  0\n",
       "genres                      0\n",
       "production_companies    21189\n",
       "production_countries    11041\n",
       "dtype: int64"
      ]
     },
     "execution_count": 19,
     "metadata": {},
     "output_type": "execute_result"
    }
   ],
   "source": [
    "#looking at nulls again \n",
    "df.isnull().sum()"
   ]
  },
  {
   "cell_type": "code",
   "execution_count": null,
   "id": "f2744afa",
   "metadata": {
    "scrolled": true
   },
   "outputs": [],
   "source": []
  },
  {
   "cell_type": "code",
   "execution_count": 20,
   "id": "01f5f4ee",
   "metadata": {
    "scrolled": false
   },
   "outputs": [
    {
     "data": {
      "text/plain": [
       "array(['Animation, Family, Adventure, Drama, Comedy',\n",
       "       'Animation, Comedy, Family, Adventure', 'Animation, Family', ...,\n",
       "       'Animation, Fantasy, TV Movie, Family',\n",
       "       'Drama, Comedy, Adventure, Animation, Fantasy, TV Movie, Family',\n",
       "       'Drama, Comedy, Documentary, History, Animation'], dtype=object)"
      ]
     },
     "execution_count": 20,
     "metadata": {},
     "output_type": "execute_result"
    }
   ],
   "source": [
    "#looking at unique genres\n",
    "df['genres'].unique()"
   ]
  },
  {
   "cell_type": "markdown",
   "id": "c2fd501b",
   "metadata": {},
   "source": [
    "There are many films with \"Animation\" genre, but since this is a dataset of animated movies, we will drop the genre \"Animation\" and obtain the first genre, then drop the rest. "
   ]
  },
  {
   "cell_type": "code",
   "execution_count": 21,
   "id": "44a0800a",
   "metadata": {},
   "outputs": [],
   "source": [
    "# Convert column to string type\n",
    "df['genres'] = df['genres'].astype(str)\n",
    "\n",
    "# Function to extract first non-\"Animation\" word\n",
    "def extract_first_word(genre):\n",
    "    genres_list = genre.split(',')\n",
    "    for word in genres_list:\n",
    "        if word.strip() != 'Animation':\n",
    "            return word.strip()\n",
    "    return None  # Return None if only \"Animation\" is present or if the genre is empty\n",
    "\n",
    "# Apply the function to the 'genres' column\n",
    "df['genres'] = df['genres'].apply(extract_first_word)\n"
   ]
  },
  {
   "cell_type": "code",
   "execution_count": 22,
   "id": "09740d30",
   "metadata": {
    "scrolled": false
   },
   "outputs": [
    {
     "data": {
      "image/png": "[encoded data removed]",
      "text/plain": [
       "<Figure size 1000x600 with 1 Axes>"
      ]
     },
     "metadata": {},
     "output_type": "display_data"
    }
   ],
   "source": [
    "#looking at value counts of genres\n",
    "top_ten_genres = df['genres'].value_counts().head(10)\n",
    "\n",
    "# Plot the frequencies of the top 10 genres\n",
    "plt.figure(figsize=(10, 6))\n",
    "top_ten_genres.plot(kind='bar', color='skyblue')\n",
    "plt.title('Top 10 Genres')\n",
    "plt.xlabel('Genre')\n",
    "plt.ylabel('Frequency')\n",
    "plt.xticks(rotation=45, ha='right')\n",
    "plt.tight_layout()\n",
    "plt.show()"
   ]
  },
  {
   "cell_type": "code",
   "execution_count": 23,
   "id": "6bba49d0",
   "metadata": {
    "scrolled": true
   },
   "outputs": [
    {
     "data": {
      "text/plain": [
       "array(['Pixar, Walt Disney Pictures', 'Pixar',\n",
       "       'Walt Disney Pictures, Walt Disney Feature Animation', ...,\n",
       "       'ANIMA LATINA',\n",
       "       'Benesse, Sony Music Direct, TOHO, The Answer Studio, Backstreets Inc., TV Setouchi Broadcasting (TSC)',\n",
       "       'Studio Neum, Zagreb Film'], dtype=object)"
      ]
     },
     "execution_count": 23,
     "metadata": {},
     "output_type": "execute_result"
    }
   ],
   "source": [
    "df['production_companies'].unique()"
   ]
  },
  {
   "cell_type": "code",
   "execution_count": 24,
   "id": "b40db0e5",
   "metadata": {},
   "outputs": [
    {
     "data": {
      "image/png": "[encoded data removed]",
      "text/plain": [
       "<Figure size 1000x600 with 1 Axes>"
      ]
     },
     "metadata": {},
     "output_type": "display_data"
    }
   ],
   "source": [
    "# Count occurrences of each production company\n",
    "production_counts = df['production_companies'].value_counts()\n",
    "\n",
    "# Select the top 10 production companies\n",
    "top_10_production = production_counts.head(10)\n",
    "\n",
    "# Plot the frequencies of the top 10 production companies\n",
    "plt.figure(figsize=(10, 6))\n",
    "top_10_production.plot(kind='bar', color='skyblue')\n",
    "plt.title('Top 10 Production Companies')\n",
    "plt.xlabel('Production Company')\n",
    "plt.ylabel('Frequency')\n",
    "plt.xticks(rotation=45, ha='right')\n",
    "plt.tight_layout()\n",
    "plt.show()"
   ]
  },
  {
   "cell_type": "code",
   "execution_count": 25,
   "id": "b7c06721",
   "metadata": {},
   "outputs": [
    {
     "data": {
      "image/png": "[encoded data removed]",
      "text/plain": [
       "<Figure size 1000x600 with 1 Axes>"
      ]
     },
     "metadata": {},
     "output_type": "display_data"
    }
   ],
   "source": [
    "#looking at top 10 countries\n",
    "top_10_countries = df['production_countries'].value_counts().head(10)\n",
    "\n",
    "# Plot the frequencies of the top 10 countries\n",
    "plt.figure(figsize=(10, 6))\n",
    "top_10_countries.plot(kind='bar', color='skyblue')\n",
    "plt.title('Top 10 Countries')\n",
    "plt.xlabel('Country')\n",
    "plt.ylabel('Frequency')\n",
    "plt.xticks(rotation=45, ha='right')\n",
    "plt.tight_layout()\n",
    "plt.show()"
   ]
  },
  {
   "cell_type": "code",
   "execution_count": 26,
   "id": "b480b330",
   "metadata": {},
   "outputs": [
    {
     "name": "stdout",
     "output_type": "stream",
     "text": [
      "<class 'pandas.core.frame.DataFrame'>\n",
      "Int64Index: 49807 entries, 0 to 51944\n",
      "Data columns (total 15 columns):\n",
      " #   Column                Non-Null Count  Dtype  \n",
      "---  ------                --------------  -----  \n",
      " 0   id                    49807 non-null  int64  \n",
      " 1   title                 49807 non-null  object \n",
      " 2   vote_average          49807 non-null  float64\n",
      " 3   vote_count            49807 non-null  int64  \n",
      " 4   status                49807 non-null  object \n",
      " 5   release_date          49807 non-null  object \n",
      " 6   revenue               49807 non-null  int64  \n",
      " 7   runtime               49807 non-null  int64  \n",
      " 8   adult                 49807 non-null  bool   \n",
      " 9   budget                49807 non-null  int64  \n",
      " 10  original_language     49807 non-null  object \n",
      " 11  popularity            49807 non-null  float64\n",
      " 12  genres                22547 non-null  object \n",
      " 13  production_companies  28618 non-null  object \n",
      " 14  production_countries  38766 non-null  object \n",
      "dtypes: bool(1), float64(2), int64(5), object(7)\n",
      "memory usage: 5.7+ MB\n"
     ]
    }
   ],
   "source": [
    "df.info()"
   ]
  },
  {
   "cell_type": "code",
   "execution_count": 27,
   "id": "f1a7caff",
   "metadata": {},
   "outputs": [],
   "source": [
    "#saving updated df to CSV, name the new csv file \n",
    "new_file_path = 'Animated_movies_updated.csv'\n",
    "\n",
    "# Save the DataFrame to the new CSV file \n",
    "df.to_csv(new_file_path, index=False)"
   ]
  },
  {
   "cell_type": "code",
   "execution_count": null,
   "id": "15c266f3",
   "metadata": {},
   "outputs": [],
   "source": []
  }
 ],
 "metadata": {
  "kernelspec": {
   "display_name": "Python 3 (ipykernel)",
   "language": "python",
   "name": "python3"
  },
  "language_info": {
   "codemirror_mode": {
    "name": "ipython",
    "version": 3
   },
   "file_extension": ".py",
   "mimetype": "text/x-python",
   "name": "python",
   "nbconvert_exporter": "python",
   "pygments_lexer": "ipython3",
   "version": "3.9.13"
  }
 },
 "nbformat": 4,
 "nbformat_minor": 5
}
